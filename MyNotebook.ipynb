{
    "cells": [
        {
            "metadata": {
                "collapsed": true
            },
            "cell_type": "markdown",
            "source": "# My Jupyter Notebook on IBM Watson Studio"
        },
        {
            "metadata": {},
            "cell_type": "markdown",
            "source": "------------------------------------------------------------------------"
        },
        {
            "metadata": {},
            "cell_type": "markdown",
            "source": "__George.Deng__  \nMy current occupation: Data analyst"
        },
        {
            "metadata": {},
            "cell_type": "markdown",
            "source": "------------------------------------------------------------------------"
        },
        {
            "metadata": {},
            "cell_type": "markdown",
            "source": "*I'm a big fan of data science because I want to go further in my career and try to become a qualified data scientist.*"
        },
        {
            "metadata": {},
            "cell_type": "markdown",
            "source": "------------------------------------------------------------------------"
        },
        {
            "metadata": {},
            "cell_type": "markdown",
            "source": "### Get the result of 2 plus 3\uff1a"
        },
        {
            "metadata": {},
            "cell_type": "code",
            "source": "2+3",
            "execution_count": 4,
            "outputs": [
                {
                    "output_type": "execute_result",
                    "execution_count": 4,
                    "data": {
                        "text/plain": "5"
                    },
                    "metadata": {}
                }
            ]
        },
        {
            "metadata": {},
            "cell_type": "markdown",
            "source": "-----------------------------------------------------------------------"
        },
        {
            "metadata": {},
            "cell_type": "markdown",
            "source": "~~This is a strikethrough line~~  \n  \nThis is a bulleted list:\n+ Item 1  \n+ Item 2  \n+ Item 3\n  \nThis is a numbered list:\n1. Item 1\n2. Item 2\n3. Item 3\n  \nThis is a hyperlink:  \n**www.ibm.com**"
        },
        {
            "metadata": {},
            "cell_type": "code",
            "source": "",
            "execution_count": null,
            "outputs": []
        }
    ],
    "metadata": {
        "kernelspec": {
            "name": "python3",
            "display_name": "Python 3.6",
            "language": "python"
        },
        "language_info": {
            "name": "python",
            "version": "3.6.9",
            "mimetype": "text/x-python",
            "codemirror_mode": {
                "name": "ipython",
                "version": 3
            },
            "pygments_lexer": "ipython3",
            "nbconvert_exporter": "python",
            "file_extension": ".py"
        }
    },
    "nbformat": 4,
    "nbformat_minor": 1
}